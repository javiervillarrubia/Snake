{
 "cells": [
  {
   "cell_type": "markdown",
   "id": "4d81d49f",
   "metadata": {},
   "source": [
    "## Utilizaré este archivo para explicar el algoritmo"
   ]
  },
  {
   "cell_type": "code",
   "execution_count": null,
   "id": "ba6361fa",
   "metadata": {},
   "outputs": [],
   "source": [
    "board = [4,3]\n",
    "snake = [[2, 2], [3, 2], [3, 1], [3, 0], [2, 0], [1, 0], [0, 0]]\n",
    "depth = 3"
   ]
  },
  {
   "cell_type": "code",
   "execution_count": 1,
   "id": "30e98637",
   "metadata": {},
   "outputs": [],
   "source": [
    "#Hay que comprobar hacia dónde podemos movernos\n",
    "def possible_go(board, snake):\n",
    "    #Creo una lista del tipo [U,D,X,X] donde voy indicando hacia dónde puede realizar el movimiento la serpiente\n",
    "    #En este caso, podría ir para arriba y para abajo solo. Las X significa que no.\n",
    "    movements = []\n",
    "    temp = 0\n",
    "    \n",
    "    #MOVIMIENTO HACIA ARRIBA\n",
    "    head = snake[0]\n",
    "    #Primero comprobamos si el movimiento estaría dentro de los límites del tablero\n",
    "    if head[1]-1 < 0:\n",
    "        temp = 1\n",
    "    #Ahora comprobamos que no choque consigo misma. El único caso que NO hay que tener en cuenta es la cola\n",
    "    #Ya que las demás partes si que van a conservar la posición de la siguiente, a excepción de ella.\n",
    "    for i in range(len(snake)-2):\n",
    "        if [head[0], head[1]-1] == snake[i+1]:\n",
    "            temp = 1\n",
    "    if temp == 1:\n",
    "        movements.append(\"X\")\n",
    "    else:\n",
    "        movements.append(\"U\") \n",
    "    temp = 0\n",
    "    \n",
    "    #MOVIMIENTO HACIA ABAJO\n",
    "    if head[1]+1 >= board[1]:\n",
    "        temp = 1\n",
    "    for i in range(len(snake)-2):\n",
    "        if [head[0], head[1]+1] == snake[i+1]:\n",
    "            temp = 1\n",
    "    if temp == 1:\n",
    "        movements.append(\"X\")\n",
    "    else:\n",
    "        movements.append(\"D\")\n",
    "    temp = 0\n",
    "        \n",
    "    #MOVIMIENTO HACIA IZQUIERDA\n",
    "    if head[0]-1 < 0:\n",
    "        temp = 1\n",
    "    for i in range(len(snake)-2):\n",
    "        if [head[0]-1, head[1]] == snake[i+1]:\n",
    "            temp = 1\n",
    "    if temp == 1:\n",
    "        movements.append(\"X\")\n",
    "    else:\n",
    "        movements.append(\"L\")\n",
    "    temp = 0\n",
    "        \n",
    "    #MOVIMIENTO HACIA DERECHA\n",
    "    if head[0]+1 >= board[0]:\n",
    "        temp = 1\n",
    "    for i in range(len(snake)-2):\n",
    "        if [head[0]+1, head[1]] == snake[i+1]:\n",
    "            temp = 1\n",
    "    if temp == 1:\n",
    "        movements.append(\"X\")\n",
    "    else:\n",
    "        movements.append(\"R\")\n",
    "        \n",
    "    return movements\n",
    "            "
   ]
  },
  {
   "cell_type": "code",
   "execution_count": 2,
   "id": "6b113ca4",
   "metadata": {},
   "outputs": [],
   "source": [
    "def move(board, snake, direction):\n",
    "    snake_result = []\n",
    "    if direction == \"U\":\n",
    "        #Resto 1 a la posición 2º de la cabeza, que son las Filas ya que nos movemos en vertical hacia arriba\n",
    "        snake_result.append([snake[0][0], snake[0][1]-1])\n",
    "        for i in range(len(snake)-1):\n",
    "                snake_result.append(snake[i])\n",
    "    elif direction == \"D\":\n",
    "        #Resto 1 a la posición 1º de la cabeza, que son las columnas ya que nos movemos en vertical hacia abajo\n",
    "        snake_result.append([snake[0][0], snake[0][1]+1])\n",
    "        for i in range(len(snake)-1):\n",
    "                snake_result.append(snake[i])\n",
    "    elif direction == \"L\":\n",
    "        #Resto 1 a la posición 1º de la cabeza, que son las columnas ya que nos movemos en horizontal hacia la izquierda\n",
    "        snake_result.append([snake[0][0]-1, snake[0][1]])\n",
    "        for i in range(len(snake)-1):\n",
    "                snake_result.append(snake[i])\n",
    "    elif direction == \"R\":\n",
    "        #Resto 1 a la posición 1º de la cabeza, que son las columnas ya que nos movemos en horizontal hacia la derecha\n",
    "        snake_result.append([snake[0][0]+1, snake[0][1]])\n",
    "        for i in range(len(snake)-1):\n",
    "                snake_result.append(snake[i])\n",
    "    return snake_result"
   ]
  },
  {
   "cell_type": "code",
   "execution_count": 4,
   "id": "14086037",
   "metadata": {},
   "outputs": [],
   "source": [
    "#He planteado una solución parecida al algoritmo A estrella, es decir, trabajaremos con \"nodos\".\n",
    "#La semántica que se ha utilizado ha sido del estilo [0,1,\"L\"], donde el primer valor es el valor del nodo padre, \n",
    "#el segundo es el valor del propio nodo, y el tercero la dirección hacia donde se realiza el movimiento\n",
    "flag = 0\n",
    "snake_final = []\n",
    "positions = []\n",
    "flag2 = depth\n",
    "#Tomamos estas listas y variables auxiliares para ir guardando los datos, que después vamos a tener que usar y no queremos perder\n",
    "id_node = 0\n",
    "id_parent = 0\n",
    "nodes = []\n",
    "snakes_temp = [[snake[:], id_parent]]\n",
    "final_nodes = []\n",
    "nodes_temp = []\n",
    "\n",
    "#Primero compruebo los posibles movimientos desde la posición inicial de la serpiente.\n",
    "\n",
    "movements = possible_go(board, snake)\n",
    "for i in movements:\n",
    "    if i != \"X\":\n",
    "        id_node = id_node + 1\n",
    "        positions.append([id_parent, id_node, i])\n",
    "        nodes.append([id_parent, id_node, i])\n",
    "final_nodes.append(nodes)\n",
    "flag2 = flag2 - 1\n",
    "    \n",
    "#Después, haremos un bucle donde vamos a ir buscando los movimientos que puede hacer la serpiente.\n",
    "#Gracias a la nomeclatura padre-hijo, podemos saber en todo momento y así almacenar, el estado de la serpiente\n",
    "#para saber desde donde partir en cada caso que tenemos. \n",
    "while flag == 0:\n",
    "    snake_temp = []\n",
    "    #Recorremos los nodos hijos calculados\n",
    "    for j in range(len(nodes)):\n",
    "        #Recorremos los estados de las serpientes que tenemos para tomar la serpiente que corresponda al estado del nodo\n",
    "        #gracias a que cuando almacenamos el estado de la serpiente, lo almacenamos junto al valor del padre, por lo tanto\n",
    "        #esto nos indica cuál es el estado del que tenemos que partir en cada nodo.\n",
    "        for x in range(len(snakes_temp)):\n",
    "            if snakes_temp[x][1] == nodes[j][0]:\n",
    "                #Una vez tenemos nuestra posición correcta de la serpiente, realizamos el movimiento indicado en el nodo,\n",
    "                #y guardamos el nuevo estado de la serpiente, junto al valor correspondiente del id del nodo, para así, \n",
    "                #poder acceder a dicho estado cuando lo necesitásemos.\n",
    "                snake_temp = move(board, snakes_temp[x][0], nodes[j][2])\n",
    "                snakes_temp.append([snake_temp, nodes[j][1]])\n",
    "                movements = possible_go(board, snake_temp)\n",
    "                #Volvemos a calcular los posibles movimientos desde la nueva posición de la serpiente y, como se generan\n",
    "                #nuevos nodos hijos, los volvemos a almacenar para poder trabajar otra vez desde estos y ver qué posibles\n",
    "                #movimientos pueden hacer estos nuevos nodos.\n",
    "                for i in movements:\n",
    "                    if i != \"X\":\n",
    "                        id_node = id_node + 1\n",
    "                        positions.append([nodes[j][1], id_node, i])\n",
    "                        nodes_temp.append([nodes[j][1], id_node, i])\n",
    "    final_nodes.append(nodes_temp)\n",
    "    nodes = nodes_temp\n",
    "    nodes_temp = []\n",
    "    \n",
    "    flag2 = flag2 - 1\n",
    "    if flag2 == 0:\n",
    "        flag = 1\n",
    "    else:\n",
    "        snake = snake_temp"
   ]
  },
  {
   "cell_type": "code",
   "execution_count": 5,
   "id": "623a1703",
   "metadata": {},
   "outputs": [
    {
     "data": {
      "text/plain": [
       "[[[0, 1, 'U'], [0, 2, 'L']],\n",
       " [[1, 3, 'L'], [2, 4, 'U'], [2, 5, 'L']],\n",
       " [[3, 6, 'U'],\n",
       "  [3, 7, 'D'],\n",
       "  [3, 8, 'L'],\n",
       "  [4, 9, 'U'],\n",
       "  [4, 10, 'L'],\n",
       "  [4, 11, 'R'],\n",
       "  [5, 12, 'U']]]"
      ]
     },
     "execution_count": 5,
     "metadata": {},
     "output_type": "execute_result"
    }
   ],
   "source": [
    "#Así, obtenemos una lista, por orden, de los diferentes nodos que hay en cada altura del arbol.\n",
    "#La primera sublista son los primeros movimientos que puede hacer partiendo del estado inicial.\n",
    "#Despues, los demás movimientos, se pueden comprobar a través de la nomeclatura padre-hijo, ya que si tenemos\n",
    "#un nodo [0,1,\"L\"], y otro nodo [1,3,\"L\"], vemos que este último tiene como padre el \"1\", que quiere decir que es un movimiento\n",
    "#que va después de el nodo, que tiene por id propio \"1\", es decir, el primero mencionado\n",
    "final_nodes"
   ]
  },
  {
   "cell_type": "code",
   "execution_count": 6,
   "id": "16f96832",
   "metadata": {},
   "outputs": [],
   "source": [
    "#Como sabemos que la última sublista son todos los diferentes posibles caminos que tiene, recorremos uno a uno hacia arriba\n",
    "#de la lista, para ir calculando quien es su padre e ir uniendo nodos hasta conseguir las diferentes rutas que puede hacer.\n",
    "list_final = []\n",
    "cont = 1\n",
    "parent = 0\n",
    "id_node = 0\n",
    "for i in range(len(final_nodes[depth-1])):\n",
    "    parent = final_nodes[depth-1][i][0]\n",
    "    list_final.append([final_nodes[depth-1][i][2]])\n",
    "    for j in range(depth-1):\n",
    "        for x in range(len(final_nodes[depth-2-j])):\n",
    "            if parent == final_nodes[depth-2-j][x][1]:\n",
    "                list_final[i].insert(0, final_nodes[depth-2-j][x][2])\n",
    "                parent = final_nodes[depth-2-j][x][0]"
   ]
  },
  {
   "cell_type": "code",
   "execution_count": 7,
   "id": "699aa44f",
   "metadata": {},
   "outputs": [
    {
     "data": {
      "text/plain": [
       "[['U', 'L', 'U'],\n",
       " ['U', 'L', 'D'],\n",
       " ['U', 'L', 'L'],\n",
       " ['L', 'U', 'U'],\n",
       " ['L', 'U', 'L'],\n",
       " ['L', 'U', 'R'],\n",
       " ['L', 'L', 'U']]"
      ]
     },
     "execution_count": 7,
     "metadata": {},
     "output_type": "execute_result"
    }
   ],
   "source": [
    "list_final"
   ]
  },
  {
   "cell_type": "code",
   "execution_count": 8,
   "id": "ac82e68e",
   "metadata": {},
   "outputs": [
    {
     "name": "stdout",
     "output_type": "stream",
     "text": [
      "Result: 7\n"
     ]
    }
   ],
   "source": [
    "#Y obtenemos los posibles caminos \n",
    "print(\"Result:\", len(list_final))"
   ]
  }
 ],
 "metadata": {
  "kernelspec": {
   "display_name": "Python 3",
   "language": "python",
   "name": "python3"
  },
  "language_info": {
   "codemirror_mode": {
    "name": "ipython",
    "version": 3
   },
   "file_extension": ".py",
   "mimetype": "text/x-python",
   "name": "python",
   "nbconvert_exporter": "python",
   "pygments_lexer": "ipython3",
   "version": "3.8.8"
  }
 },
 "nbformat": 4,
 "nbformat_minor": 5
}
